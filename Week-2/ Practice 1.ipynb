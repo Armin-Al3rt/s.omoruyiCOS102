{
 "cells": [
  {
   "cell_type": "code",
   "execution_count": 6,
   "id": "a71676f2-02c4-4894-8eac-aaaf4c1cf44a",
   "metadata": {},
   "outputs": [
    {
     "name": "stdin",
     "output_type": "stream",
     "text": [
      "Enter your state of origin: edo\n"
     ]
    },
    {
     "name": "stdout",
     "output_type": "stream",
     "text": [
      "Your state of origin is:  edo\n",
      "The first character is:  e\n",
      "The characters starting from 3rd character to 5th are:  o\n",
      "The string starting from 3rd character is:  o\n",
      "State of origin two times edoedo\n"
     ]
    }
   ],
   "source": [
    "str = input(\"Enter your state of origin:\")\n",
    "\n",
    "print(\"Your state of origin is: \", str)\n",
    "\n",
    "print(\"The first character is: \", str[0])\n",
    "\n",
    "print(\"The characters starting from 3rd character to 5th are: \", str[2:5])\n",
    "\n",
    "print(\"The string starting from 3rd character is: \", str[2:])\n",
    "\n",
    "print(\"State of origin two times\",str*2)"
   ]
  }
 ],
 "metadata": {
  "kernelspec": {
   "display_name": "Python 3 (ipykernel)",
   "language": "python",
   "name": "python3"
  },
  "language_info": {
   "codemirror_mode": {
    "name": "ipython",
    "version": 3
   },
   "file_extension": ".py",
   "mimetype": "text/x-python",
   "name": "python",
   "nbconvert_exporter": "python",
   "pygments_lexer": "ipython3",
   "version": "3.10.4"
  }
 },
 "nbformat": 4,
 "nbformat_minor": 5
}
