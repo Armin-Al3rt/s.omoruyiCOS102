{
 "cells": [
  {
   "cell_type": "code",
   "execution_count": null,
   "id": "cda33ddc-dcdf-4e15-97d7-8d63ac8bf26e",
   "metadata": {},
   "outputs": [
    {
     "name": "stdout",
     "output_type": "stream",
     "text": [
      "Choose the equation type:\n",
      "1. Quadratic (ax^2 + bx + c = 0)\n"
     ]
    }
   ],
   "source": [
    "import math\n",
    "\n",
    "def quadratic_roots(a, b, c):\n",
    "    \"\"\"Finds the roots of a quadratic equation ax^2 + bx + c = 0\"\"\"\n",
    "    discriminant = b**2 - 4*a*c\n",
    "    if discriminant > 0:\n",
    "        root1 = (-b + math.sqrt(discriminant)) / (2*a)\n",
    "        root2 = (-b - math.sqrt(discriminant)) / (2*a)\n",
    "        return root1, root2\n",
    "    elif discriminant == 0:\n",
    "        root = -b / (2*a)\n",
    "        return root,\n",
    "    else:\n",
    "        return \"No real roots\"\n",
    "\n",
    "def main():\n",
    "    print(\"Choose the equation type:\")\n",
    "    print(\"1. Quadratic (ax^2 + bx + c = 0)\")\n",
    "    \n",
    "    choice = int(input(\"Enter your choice (1): \"))  # Only quadratic for simplicity\n",
    "    \n",
    "    if choice == 1:\n",
    "        a = float(input(\"Enter coefficient a: \"))\n",
    "        b = float(input(\"Enter coefficient b: \"))\n",
    "        c = float(input(\"Enter coefficient c: \"))\n",
    "        \n",
    "        if a == 0:\n",
    "            print(\"This is not a quadratic equation.\")\n",
    "        else:\n",
    "            print(\"Roots:\", quadratic_roots(a, b, c))\n",
    "    \n",
    "    else:\n",
    "        print(\"Invalid choice.\")\n",
    "\n",
    "if __name__ == \"__main__\":\n",
    "    main()\n"
   ]
  },
  {
   "cell_type": "code",
   "execution_count": null,
   "id": "a501fec4-fc04-4371-81ed-c27bba4e96a1",
   "metadata": {},
   "outputs": [],
   "source": []
  }
 ],
 "metadata": {
  "kernelspec": {
   "display_name": "Python [conda env:base] *",
   "language": "python",
   "name": "conda-base-py"
  },
  "language_info": {
   "codemirror_mode": {
    "name": "ipython",
    "version": 3
   },
   "file_extension": ".py",
   "mimetype": "text/x-python",
   "name": "python",
   "nbconvert_exporter": "python",
   "pygments_lexer": "ipython3",
   "version": "3.12.7"
  }
 },
 "nbformat": 4,
 "nbformat_minor": 5
}
