{
 "cells": [
  {
   "cell_type": "code",
   "execution_count": 2,
   "id": "74015bc3-26a7-4a22-90de-dc868dad6c6d",
   "metadata": {},
   "outputs": [],
   "source": [
    "def printme( str ):\n",
    "    # This is a print function\n",
    "    print (str);\n",
    "    return;\n",
    "\n",
    "    printme(\"I'm first call to user defined function!\");\n",
    "    printme(\"Again second call to the same function\");"
   ]
  },
  {
   "cell_type": "code",
   "execution_count": 4,
   "id": "503f04ce-fb4c-4cee-b0a3-811bedd42bed",
   "metadata": {},
   "outputs": [],
   "source": [
    "def changeme( mylist ):\n",
    "    #This changed a passed list\n",
    "    mylist.append([1,2,3,4])\n",
    "    print(\"Values inside the function: \", mylist)\n",
    "    return\n",
    "    mylist = [10,20,20]\n",
    "    changeme(mylist)\n",
    "    print(\"Values outside the function: \",mylist)"
   ]
  },
  {
   "cell_type": "code",
   "execution_count": 5,
   "id": "89a74b1d-15df-4fcf-bb7c-60a3b6d14777",
   "metadata": {},
   "outputs": [],
   "source": [
    "def changeme( mylist ):\n",
    "    #This changed a passed list\n",
    "    mylist = ([1,2,3,4])\n",
    "    print(\"Values inside the function: \", mylist)\n",
    "    return\n",
    "    mylist = [10,20,20]\n",
    "    changeme(mylist)\n",
    "    print(\"Values outside the function: \",mylist)"
   ]
  },
  {
   "cell_type": "code",
   "execution_count": 7,
   "id": "90a745c4-51ba-4016-8ba8-9dac5eef1c39",
   "metadata": {},
   "outputs": [],
   "source": [
    "def printme( str ):\n",
    "    #This prints a passed string \n",
    "    print(str);\n",
    "    return;\n",
    "    printme();"
   ]
  },
  {
   "cell_type": "code",
   "execution_count": 8,
   "id": "fa34aa1f-9965-46d5-8bf9-f80c1b25acd6",
   "metadata": {},
   "outputs": [],
   "source": [
    "def printme( str ):\n",
    "    #This prints a passed string\n",
    "    print(str);\n",
    "    return;\n",
    "    printme( str = \"My string\");"
   ]
  },
  {
   "cell_type": "code",
   "execution_count": 9,
   "id": "1218ae16-53b8-4b43-8bb6-4bb3cd7e8ebb",
   "metadata": {},
   "outputs": [],
   "source": [
    "def printinfo ( name, age):\n",
    "    #Test function\n",
    "    print(\"Name: \",name);\n",
    "    print(\"Age: \",age);\n",
    "    return;\n",
    "    printinfo( age=50, name=\"miki\" );"
   ]
  },
  {
   "cell_type": "code",
   "execution_count": 12,
   "id": "e3eb95ec-ca7e-4c45-9942-da81679af3c8",
   "metadata": {},
   "outputs": [],
   "source": [
    "def printinfo ( name, age = 35):\n",
    "    #Test function\n",
    "    print(\"Name: \",name);\n",
    "    print(\"Age: \",age);\n",
    "    return;\n",
    "    printinfo( age=50, name=\"miki\" );\n",
    "    printinfo( name=\"miki\" );"
   ]
  },
  {
   "cell_type": "code",
   "execution_count": 11,
   "id": "794a491b-0bc0-4521-a654-518e100290cc",
   "metadata": {},
   "outputs": [
    {
     "name": "stdout",
     "output_type": "stream",
     "text": [
      "Output is: \n",
      "10\n",
      "Output is: \n",
      "70\n",
      "60\n"
     ]
    }
   ],
   "source": [
    "def printinfo ( arg1, *vartuple ):\n",
    "    #This is test\n",
    "    print(\"Output is: \")\n",
    "    print(arg1)\n",
    "    for var in vartuple:\n",
    "        print (var)\n",
    "        return;\n",
    "printinfo( 10 );\n",
    "printinfo( 70, 60, 50);\n",
    "        "
   ]
  },
  {
   "cell_type": "code",
   "execution_count": 14,
   "id": "d74e673c-64fa-435b-a717-cd25430ebf66",
   "metadata": {},
   "outputs": [],
   "source": [
    "total = 50; # This is global variable.\n",
    "def sum(arg1, arg2 ):\n",
    "    # Add both the parameters\n",
    "    total = arg1 + arg2;\n",
    "    print(\"Inside the function local total : \",total)\n",
    "    return total;\n",
    "    # Now you can call sum function\n",
    "    sum( 10, 20 );\n",
    "    print(\"Outside the function global total : \",total)"
   ]
  },
  {
   "cell_type": "code",
   "execution_count": 20,
   "id": "3d55163e-111f-4546-b673-b63a24b82691",
   "metadata": {},
   "outputs": [
    {
     "name": "stdout",
     "output_type": "stream",
     "text": [
      "Lawal Edward Tolu Tina\n",
      "Mary\n"
     ]
    }
   ],
   "source": [
    "def swap(x, y):\n",
    "  global a\n",
    "  a = \"Lawal\"\n",
    "  x,y = y,x\n",
    "  b = \"Chris\"\n",
    "  b = \"Edward\"\n",
    "  c = \"Lola\"\n",
    "  print(a,b,x,y)\n",
    "  a = \"Mary\"\n",
    "swap(\"Tina\", \"Tolu\")\n",
    "print (a)"
   ]
  },
  {
   "cell_type": "code",
   "execution_count": null,
   "id": "875fcde1-c418-44bf-841a-ed9ab83500cb",
   "metadata": {},
   "outputs": [],
   "source": []
  }
 ],
 "metadata": {
  "kernelspec": {
   "display_name": "Python 3 (ipykernel)",
   "language": "python",
   "name": "python3"
  },
  "language_info": {
   "codemirror_mode": {
    "name": "ipython",
    "version": 3
   },
   "file_extension": ".py",
   "mimetype": "text/x-python",
   "name": "python",
   "nbconvert_exporter": "python",
   "pygments_lexer": "ipython3",
   "version": "3.10.4"
  }
 },
 "nbformat": 4,
 "nbformat_minor": 5
}
