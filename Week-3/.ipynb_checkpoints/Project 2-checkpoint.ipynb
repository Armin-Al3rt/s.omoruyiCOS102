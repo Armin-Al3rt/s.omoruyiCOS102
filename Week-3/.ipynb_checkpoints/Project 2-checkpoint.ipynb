{
 "cells": [
  {
   "cell_type": "code",
   "execution_count": 9,
   "id": "7d213385-5891-4e50-8df4-9c6aeda6fae5",
   "metadata": {},
   "outputs": [
    {
     "name": "stdout",
     "output_type": "stream",
     "text": [
      "IZIFIN TECHNOLOGY\n",
      "Annual Tax Revenue Checker\n"
     ]
    },
    {
     "name": "stdin",
     "output_type": "stream",
     "text": [
      "Enter your name:  samsam\n",
      "Enter years of experience:   50\n",
      "Enter your age:  17\n"
     ]
    },
    {
     "name": "stdout",
     "output_type": "stream",
     "text": [
      "Your ATR is 550000\n"
     ]
    }
   ],
   "source": [
    "print(\"IZIFIN TECHNOLOGY\")\n",
    "print(\"Annual Tax Revenue Checker\")\n",
    "\n",
    "Name = str(input(\"Enter your name: \"))\n",
    "Years_of_experience = int(input(\"Enter years of experience:  \") )\n",
    "Age_of_staff = int(input(\"Enter your age: \"))\n",
    "\n",
    "if Years_of_experience > 25 and Age_of_staff >= 55:\n",
    "   print(\"Your ATR is 5600000\")\n",
    "elif Years_of_experience > 20 and Age_of_staff >= 45:\n",
    "   print(\"Your ATR is 4480000\")\n",
    "elif Years_of_experience > 10 and Age_of_staff >= 35:\n",
    "   print(\"Your ATR is 1500000\")\n",
    "else: Years_of_experience < 10 and Age_of_staff < 35\n",
    "print(\"Your ATR is 550000\")\n",
    "                   "
   ]
  },
  {
   "cell_type": "code",
   "execution_count": null,
   "id": "a931f5fd-911d-46a4-8961-29e0f19dd906",
   "metadata": {},
   "outputs": [],
   "source": []
  }
 ],
 "metadata": {
  "kernelspec": {
   "display_name": "Python 3 (ipykernel)",
   "language": "python",
   "name": "python3"
  },
  "language_info": {
   "codemirror_mode": {
    "name": "ipython",
    "version": 3
   },
   "file_extension": ".py",
   "mimetype": "text/x-python",
   "name": "python",
   "nbconvert_exporter": "python",
   "pygments_lexer": "ipython3",
   "version": "3.10.4"
  }
 },
 "nbformat": 4,
 "nbformat_minor": 5
}
