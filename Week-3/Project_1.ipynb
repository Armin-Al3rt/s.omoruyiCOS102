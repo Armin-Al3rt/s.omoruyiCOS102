{
 "cells": [
  {
   "cell_type": "code",
   "execution_count": 5,
   "id": "085e7647-b30a-473c-8302-3a7e04ded692",
   "metadata": {},
   "outputs": [
    {
     "name": "stdout",
     "output_type": "stream",
     "text": [
      "Name       Age   Height  Score\n",
      "------------------------------\n",
      "Evelyn     17    5.5     80   \n",
      "Jessica    16    5.0     85   \n",
      "Somto      17    4.5     70   \n",
      "Edith      18    5.9     76   \n",
      "Liza       18    5.5     66   \n",
      "Madonna    17    5.1     87   \n",
      "Waje       20    6.0     95   \n",
      "Tola       19    5.6     49   \n",
      "Aisha      17    5.7     59   \n",
      "Latifa     17    5.5     45   \n",
      "Chinedu    19    5.7     74   \n",
      "Liam       16    5.9     87   \n",
      "Wale       18    6.8     75   \n",
      "Gbenga     20    1.9     68   \n",
      "Abiola     19    5.5     78   \n",
      "Kola       16    5.1     54   \n",
      "Kunle      18    4.5     80   \n",
      "George     17    5.8     50   \n",
      "Thomas     18    5.7     64   \n",
      "Wesley     17    5.0     60   \n"
     ]
    }
   ],
   "source": [
    "# Data representation\n",
    "students = [\n",
    "    {\"Name\": \"Evelyn\", \"Age\": 17, \"Height\": 5.5, \"Score\": 80},\n",
    "    {\"Name\": \"Jessica\", \"Age\": 16, \"Height\": 5.0, \"Score\": 85},\n",
    "    {\"Name\": \"Somto\", \"Age\": 17, \"Height\": 4.5, \"Score\": 70},\n",
    "    {\"Name\": \"Edith\", \"Age\": 18, \"Height\": 5.9, \"Score\": 76},\n",
    "    {\"Name\": \"Liza\", \"Age\": 18, \"Height\": 5.5, \"Score\": 66},\n",
    "    {\"Name\": \"Madonna\", \"Age\": 17, \"Height\": 5.1, \"Score\": 87},\n",
    "    {\"Name\": \"Waje\", \"Age\": 20, \"Height\": 6.0, \"Score\": 95},\n",
    "    {\"Name\": \"Tola\", \"Age\": 19, \"Height\": 5.6, \"Score\": 49},\n",
    "    {\"Name\": \"Aisha\", \"Age\": 17, \"Height\": 5.7, \"Score\": 59},\n",
    "    {\"Name\": \"Latifa\", \"Age\": 17, \"Height\": 5.5, \"Score\": 45},\n",
    "    {\"Name\": \"Chinedu\", \"Age\": 19, \"Height\": 5.7, \"Score\": 74},\n",
    "    {\"Name\": \"Liam\", \"Age\": 16, \"Height\": 5.9, \"Score\": 87},\n",
    "    {\"Name\": \"Wale\", \"Age\": 18, \"Height\": 6.8, \"Score\": 75},\n",
    "    {\"Name\": \"Gbenga\", \"Age\": 20, \"Height\": 1.9, \"Score\": 68},\n",
    "    {\"Name\": \"Abiola\", \"Age\": 19, \"Height\": 5.5, \"Score\": 78},\n",
    "    {\"Name\": \"Kola\", \"Age\": 16, \"Height\": 5.1, \"Score\": 54},\n",
    "    {\"Name\": \"Kunle\", \"Age\": 18, \"Height\": 4.5, \"Score\": 80},\n",
    "    {\"Name\": \"George\", \"Age\": 17, \"Height\": 5.8, \"Score\": 50},\n",
    "    {\"Name\": \"Thomas\", \"Age\": 18, \"Height\": 5.7, \"Score\": 64},\n",
    "    {\"Name\": \"Wesley\", \"Age\": 17, \"Height\": 5.0, \"Score\": 60}\n",
    "]\n",
    "\n",
    "# Display data in tabular format without using tabulate\n",
    "def print_table(data):\n",
    "    print(f\"{'Name':<10} {'Age':<5} {'Height':<7} {'Score':<5}\")\n",
    "    print(\"-\" * 30)\n",
    "    for student in data:\n",
    "        print(f\"{student['Name']:<10} {student['Age']:<5} {student['Height']:<7} {student['Score']:<5}\")\n",
    "\n",
    "print_table(students)\n",
    "\n"
   ]
  },
  {
   "cell_type": "code",
   "execution_count": null,
   "id": "9c67a4f0-e101-480d-a746-ba33909ccb43",
   "metadata": {},
   "outputs": [],
   "source": []
  }
 ],
 "metadata": {
  "kernelspec": {
   "display_name": "Python 3 (ipykernel)",
   "language": "python",
   "name": "python3"
  },
  "language_info": {
   "codemirror_mode": {
    "name": "ipython",
    "version": 3
   },
   "file_extension": ".py",
   "mimetype": "text/x-python",
   "name": "python",
   "nbconvert_exporter": "python",
   "pygments_lexer": "ipython3",
   "version": "3.10.4"
  }
 },
 "nbformat": 4,
 "nbformat_minor": 5
}
