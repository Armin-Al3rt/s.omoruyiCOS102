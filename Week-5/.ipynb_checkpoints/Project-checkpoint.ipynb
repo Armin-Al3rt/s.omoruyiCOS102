{
 "cells": [
  {
   "cell_type": "code",
   "execution_count": null,
   "id": "2268e7d8-d3c7-42c5-9a30-21f2cf0e6357",
   "metadata": {},
   "outputs": [],
   "source": [
    "import tkinter as tk\n",
    "from tkinter import messagebox\n",
    "import pandas as pd\n",
    "\n",
    "# Load dataset\n",
    "data = pd.read_csv(\"GIG-logistics.csv\")\n",
    "\n",
    "# Function to check employee and display results\n",
    "def verify_employee():\n",
    "    name = name_entry.get().strip()\n",
    "    department = dept_entry.get().strip()\n",
    "\n",
    "    # Check if employee exists\n",
    "    match = data[(data['Name'].str.lower() == name.lower()) &\n",
    "                 (data['Department'].str.lower() == department.lower())]\n",
    "\n",
    "    if not match.empty:\n",
    "        # Get other members in the same department\n",
    "        dept_members = data[data['Department'].str.lower() == department.lower()]\n",
    "        members = \", \".join(dept_members['Name'])\n",
    "        messagebox.showinfo(\"Welcome\", f\"Welcome {name}!\\n\\nOther members in {department}:\\n{members}\")\n",
    "    else:\n",
    "        messagebox.showwarning(\"Not Found\", \"Employee does not exist.\")\n",
    "\n",
    "# Setup GUI\n",
    "root = tk.Tk()\n",
    "root.title(\"Employee Verification\")\n",
    "root.geometry(\"400x200\")\n",
    "\n",
    "tk.Label(root, text=\"Enter Name:\").pack()\n",
    "name_entry = tk.Entry(root)\n",
    "name_entry.pack()\n",
    "\n",
    "tk.Label(root, text=\"Enter Department:\").pack()\n",
    "dept_entry = tk.Entry(root)\n",
    "dept_entry.pack()\n",
    "\n",
    "tk.Button(root, text=\"Verify\", command=verify_employee).pack()\n",
    "\n",
    "root.mainloop()\n"
   ]
  }
 ],
 "metadata": {
  "kernelspec": {
   "display_name": "Python 3 (ipykernel)",
   "language": "python",
   "name": "python3"
  },
  "language_info": {
   "codemirror_mode": {
    "name": "ipython",
    "version": 3
   },
   "file_extension": ".py",
   "mimetype": "text/x-python",
   "name": "python",
   "nbconvert_exporter": "python",
   "pygments_lexer": "ipython3",
   "version": "3.10.4"
  }
 },
 "nbformat": 4,
 "nbformat_minor": 5
}
